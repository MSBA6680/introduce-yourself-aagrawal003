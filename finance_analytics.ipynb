{
 "cells": [
  {
   "cell_type": "code",
   "execution_count": null,
   "metadata": {},
   "outputs": [],
   "source": [
    "# Hi my name is Ananya. I am an exchange student from NEOMA Business School France. \n",
    "# I am in the MSBA program, gradute studuies include management and business analytics courses. \n",
    "# My undergraduate was in Public Relations.I have some basic finance understanding from some previous courses. "
   ]
  }
 ],
 "metadata": {
  "kernelspec": {
   "display_name": "base",
   "language": "python",
   "name": "python3"
  },
  "language_info": {
   "name": "python",
   "version": "3.12.7"
  }
 },
 "nbformat": 4,
 "nbformat_minor": 2
}
